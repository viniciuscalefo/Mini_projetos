{
 "cells": [
  {
   "cell_type": "markdown",
   "id": "0a44dc61",
   "metadata": {},
   "source": [
    "# Exercícios"
   ]
  },
  {
   "cell_type": "code",
   "execution_count": 4,
   "id": "c9d7fb9b",
   "metadata": {},
   "outputs": [
    {
     "name": "stdout",
     "output_type": "stream",
     "text": [
      "Vinicius\n",
      "Calefo\n"
     ]
    }
   ],
   "source": [
    "def nome_formatado(nome,sobrenome):\n",
    "    print(nome.title())\n",
    "    print(sobrenome.title())\n",
    "    \n",
    "nome_formatado('ViNIciUs','cAlEfo')\n",
    "    "
   ]
  },
  {
   "cell_type": "code",
   "execution_count": 13,
   "id": "7a5d1a57",
   "metadata": {},
   "outputs": [
    {
     "name": "stdout",
     "output_type": "stream",
     "text": [
      "Digite um Número3\n",
      "Digite um Número5\n",
      "+\n",
      "-\n",
      "*\n",
      "/\n",
      "Escolha um operador: +\n",
      "3 + 5 = O resultado é 8\n"
     ]
    }
   ],
   "source": [
    "def soma(num1,num2):\n",
    "    return num1+num2\n",
    "\n",
    "def subtracao(num1,num2):\n",
    "    return num1-num2\n",
    "\n",
    "def multiplicacao(num1,num2):\n",
    "    return num1*num2\n",
    "\n",
    "def divisao(num1,num2):\n",
    "    return num1/num2\n",
    "\n",
    "\n",
    "operadores={\n",
    "    '+':soma,\n",
    "    '-':subtracao,\n",
    "    '*':multiplicacao,\n",
    "    '/':divisao\n",
    "}\n",
    "\n",
    "\n",
    "num1=int(input('Digite um Número'))\n",
    "num2=int(input('Digite outro Número'))\n",
    "\n",
    "\n",
    "for operador in operadores.keys():\n",
    "    print(operador)\n",
    "escolha=str(input('Escolha um operador: '))\n",
    "\n",
    "funcao_calculadora=operadores[escolha]\n",
    "resposta=funcao_calculadora(num1,num2)\n",
    "\n",
    "print(f'{num1} {escolha} {num2} = { resposta}')"
   ]
  },
  {
   "cell_type": "code",
   "execution_count": 10,
   "id": "807c74c2",
   "metadata": {},
   "outputs": [
    {
     "name": "stdout",
     "output_type": "stream",
     "text": [
      "O resultado é 7\n",
      "O resultado é -1\n",
      "O resultado é 12\n",
      "O resultado é 0.75\n"
     ]
    }
   ],
   "source": [
    "print(soma(3,4))\n",
    "print(subtracao(3,4))\n",
    "print(multiplicacao(3,4))\n",
    "print(divisao(3,4))"
   ]
  },
  {
   "cell_type": "code",
   "execution_count": null,
   "id": "732bd998",
   "metadata": {
    "collapsed": true
   },
   "outputs": [],
   "source": []
  }
 ],
 "metadata": {
  "kernelspec": {
   "display_name": "Python 3 (ipykernel)",
   "language": "python",
   "name": "python3"
  },
  "language_info": {
   "codemirror_mode": {
    "name": "ipython",
    "version": 3
   },
   "file_extension": ".py",
   "mimetype": "text/x-python",
   "name": "python",
   "nbconvert_exporter": "python",
   "pygments_lexer": "ipython3",
   "version": "3.9.13"
  }
 },
 "nbformat": 4,
 "nbformat_minor": 5
}
