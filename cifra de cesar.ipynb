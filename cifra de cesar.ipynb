{
 "cells": [
  {
   "cell_type": "code",
   "execution_count": 7,
   "id": "8ff8ace2",
   "metadata": {},
   "outputs": [],
   "source": [
    "def bom(nome,idade):\n",
    "    print(f'Olá {nome} como vc está ?')\n",
    "    print(f'{nome} vc tem {idade} anos')\n",
    "\n",
    "    "
   ]
  },
  {
   "cell_type": "code",
   "execution_count": 8,
   "id": "ede8f5ea",
   "metadata": {},
   "outputs": [
    {
     "name": "stdout",
     "output_type": "stream",
     "text": [
      "Olá vinicius como vc está ?\n",
      "vinicius vc tem 18 anos\n"
     ]
    }
   ],
   "source": [
    "bom('vinicius',18)"
   ]
  },
  {
   "cell_type": "code",
   "execution_count": 25,
   "id": "3347d9f1",
   "metadata": {},
   "outputs": [],
   "source": [
    "def primo(num):\n",
    "    é_primo=True\n",
    "    for c in range(2,num):\n",
    "        if num%c==0:\n",
    "            é_primo=False\n",
    "    if é_primo:\n",
    "        print('É PRIMO')\n",
    "    else:\n",
    "        print('N É PRIMO')\n"
   ]
  },
  {
   "cell_type": "code",
   "execution_count": 27,
   "id": "809a9f63",
   "metadata": {},
   "outputs": [
    {
     "name": "stdout",
     "output_type": "stream",
     "text": [
      "N É PRIMO\n"
     ]
    }
   ],
   "source": [
    "primo(10)"
   ]
  },
  {
   "cell_type": "markdown",
   "id": "81b1f8a1",
   "metadata": {},
   "source": [
    "# Exercicio"
   ]
  },
  {
   "cell_type": "code",
   "execution_count": 14,
   "id": "b19a67b0",
   "metadata": {},
   "outputs": [
    {
     "name": "stdout",
     "output_type": "stream",
     "text": [
      "escreva CODIFICAR para codificar, escreva DECODIFICAR para decodificar :\n",
      "decodificar\n",
      "Escreva sua mensagem:\n",
      "mjqqt\n",
      "coloque seu número de troca :\n",
      "5\n",
      "Sua mensagem decodificada é : hello\n"
     ]
    }
   ],
   "source": [
    "alfabeto = ['a', 'b', 'c', 'd', 'e', 'f', 'g', 'h', 'i',\n",
    "            'j', 'k', 'l', 'm', 'n', 'o', 'p', 'q', 'r', \n",
    "            's', 't', 'u', 'v', 'w', 'x', 'y', 'z',\n",
    "            'a', 'b', 'c', 'd', 'e', 'f', 'g', 'h', 'i',\n",
    "            'j', 'k', 'l', 'm', 'n', 'o', 'p', 'q', 'r', \n",
    "            's', 't', 'u', 'v', 'w', 'x', 'y', 'z','a', 'b', \n",
    "            'c', 'd', 'e', 'f', 'g', 'h', 'i','j', 'k', 'l', \n",
    "            'm', 'n', 'o', 'p', 'q', 'r', 's', 't', 'u', 'v', \n",
    "            'w', 'x', 'y', 'z']\n",
    "\n",
    "direcao = input(\"escreva CODIFICAR para codificar, escreva DECODIFICAR para decodificar :\\n\")\n",
    "texto = input(\"Escreva sua mensagem:\\n\").lower()\n",
    "troca_cifra= int(input(\"coloque seu número de troca :\\n\"))\n",
    "\n",
    "def codificar(msg,troca):\n",
    "    cifra=\"\"\n",
    "    for letra in msg:\n",
    "        posicao=alfabeto.index(letra)\n",
    "        nova_posicao=posicao +troca\n",
    "        nova_letra=alfabeto[nova_posicao]\n",
    "        cifra+=nova_letra\n",
    "    print(f'Sua mensagem codificada é : {cifra}')\n",
    "    \n",
    "def decodificar(cifra,troca):\n",
    "    texto=\"\"\n",
    "    for letra in cifra:\n",
    "        posicao=alfabeto.index(letra)\n",
    "        nova_posicao=posicao - troca\n",
    "        texto+=alfabeto[nova_posicao]\n",
    "    print(f'Sua mensagem decodificada é : {texto}')\n",
    "    \n",
    "if direcao=='codificar':\n",
    "    codificar(msg=texto,troca=troca_cifra)\n",
    "elif direcao=='decodificar':\n",
    "    decodificar(cifra=texto,troca=troca_cifra)\n"
   ]
  },
  {
   "cell_type": "code",
   "execution_count": 19,
   "id": "c1cc2068",
   "metadata": {},
   "outputs": [
    {
     "name": "stdout",
     "output_type": "stream",
     "text": [
      "escreva CODIFICAR para codificar, escreva DECODIFICAR para decodificar :\n",
      "decodificar\n",
      "Escreva sua mensagem:\n",
      "mjqqr\n",
      "coloque seu número de troca :\n",
      "5\n",
      "A decodificard texto é hellm\n"
     ]
    }
   ],
   "source": [
    "alfabeto = ['a', 'b', 'c', 'd', 'e', 'f', 'g', 'h', 'i',\n",
    "            'j', 'k', 'l', 'm', 'n', 'o', 'p', 'q', 'r', \n",
    "            's', 't', 'u', 'v', 'w', 'x', 'y', 'z',\n",
    "            'a', 'b', 'c', 'd', 'e', 'f', 'g', 'h', 'i',\n",
    "            'j', 'k', 'l', 'm', 'n', 'o', 'p', 'q', 'r', \n",
    "            's', 't', 'u', 'v', 'w', 'x', 'y', 'z','a', 'b', \n",
    "            'c', 'd', 'e', 'f', 'g', 'h', 'i','j', 'k', 'l', \n",
    "            'm', 'n', 'o', 'p', 'q', 'r', 's', 't', 'u', 'v', \n",
    "            'w', 'x', 'y', 'z']\n",
    "\n",
    "direcao = input(\"escreva CODIFICAR para codificar, escreva DECODIFICAR para decodificar :\\n\")\n",
    "texto = input(\"Escreva sua mensagem:\\n\").lower()\n",
    "troca_cifra= int(input(\"coloque seu número de troca :\\n\"))\n",
    "\n",
    "def cezar(texto_inicial,troca,direcao_cifra):\n",
    "    texto_final=''\n",
    "    if direcao=='decodificar':\n",
    "            troca*=-1\n",
    "    for letra in texto_inicial:\n",
    "        posicao=alfabeto.index(letra)\n",
    "        nova_posicao=posicao+troca\n",
    "        texto_final+=alfabeto[nova_posicao]\n",
    "    print(f'A {direcao_cifra} de :{texto_final}')\n",
    "            \n",
    "cezar(texto_inicial=texto,troca=troca_cifra,direcao_cifra=direcao)"
   ]
  },
  {
   "cell_type": "code",
   "execution_count": null,
   "id": "e07f555d",
   "metadata": {},
   "outputs": [],
   "source": []
  }
 ],
 "metadata": {
  "kernelspec": {
   "display_name": "Python 3 (ipykernel)",
   "language": "python",
   "name": "python3"
  },
  "language_info": {
   "codemirror_mode": {
    "name": "ipython",
    "version": 3
   },
   "file_extension": ".py",
   "mimetype": "text/x-python",
   "name": "python",
   "nbconvert_exporter": "python",
   "pygments_lexer": "ipython3",
   "version": "3.9.13"
  }
 },
 "nbformat": 4,
 "nbformat_minor": 5
}
