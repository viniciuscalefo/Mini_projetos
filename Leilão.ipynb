{
 "cells": [
  {
   "cell_type": "markdown",
   "id": "d52a43f2",
   "metadata": {},
   "source": [
    "Exercicios"
   ]
  },
  {
   "cell_type": "code",
   "execution_count": 23,
   "id": "0a0189de",
   "metadata": {},
   "outputs": [
    {
     "name": "stdout",
     "output_type": "stream",
     "text": [
      "{'harry': 'excedeu expectativas', 'ron': 'ACEITAVEL', 'hermione': 'FOra da curva', 'draco': 'ACEITAVEL', 'neville': 'Falhou'}\n"
     ]
    }
   ],
   "source": [
    "nota_alunos={\n",
    "    'harry': 81,\n",
    "    'ron': 78,\n",
    "    'hermione': 99,\n",
    "    'draco': 74,\n",
    "    'neville': 62,\n",
    "}\n",
    "estudantes_notas={}\n",
    "for estudante in nota_alunos:\n",
    "    score=nota_alunos[estudante]\n",
    "    if score >90 :\n",
    "        nota_alunos[estudante]='Fora da curva'\n",
    "    elif score>80:\n",
    "        nota_alunos[estudante]='Excedeu expectativas'\n",
    "    elif score>70:\n",
    "        nota_alunos[estudante]='Aceitavel'\n",
    "    else:\n",
    "        nota_alunos[estudante]='Falhou'\n",
    "print(nota_alunos)\n",
    "        "
   ]
  },
  {
   "cell_type": "code",
   "execution_count": 9,
   "id": "73be9318",
   "metadata": {},
   "outputs": [
    {
     "name": "stdout",
     "output_type": "stream",
     "text": [
      "Seu nomejorge\n",
      "Seu nomevini\n",
      "vini\n"
     ]
    }
   ],
   "source": [
    "for c in range (1,3):\n",
    "    nome_usu=str(input('Seu nome'))\n",
    "    dicio={'nome':nome_usu}\n",
    "    c+=1\n",
    "print(dicio['nome'])"
   ]
  },
  {
   "cell_type": "markdown",
   "id": "4c8cd7df",
   "metadata": {},
   "source": [
    "# Projeto"
   ]
  },
  {
   "cell_type": "code",
   "execution_count": 39,
   "id": "e157c067",
   "metadata": {},
   "outputs": [
    {
     "name": "stdout",
     "output_type": "stream",
     "text": [
      "Nome: vi\n",
      "Seu lance: $100\n",
      "Tem mais pessoas [S/N] s\n",
      "Nome: ju\n",
      "Seu lance: $200\n",
      "Tem mais pessoas [S/N] s\n",
      "Nome: ale\n",
      "Seu lance: $300\n",
      "Tem mais pessoas [S/N] n\n",
      "O vencedor é ale com o lance de 300 reais\n"
     ]
    }
   ],
   "source": [
    "\n",
    "\n",
    "def maior_lance(registro_lances):\n",
    "    maior_lance=0\n",
    "    for lancador in registro_lances:\n",
    "        novo_lance= registro_lances[lancador]\n",
    "        if novo_lance>maior_lance:\n",
    "            maior_lance=novo_lance\n",
    "            vencedor=lancador\n",
    "    print(f'O vencedor é {vencedor} com o lance de {maior_lance} reais')\n",
    "        \n",
    "\n",
    "lances={}\n",
    "while True:\n",
    "    nome=input('Nome: ')\n",
    "    preco=int(input('Seu lance: $'))\n",
    "    lances[nome]=preco\n",
    "    escolha=input('Tem mais pessoas [S/N] ').upper()\n",
    "    if escolha=='N':\n",
    "        maior_lance(lances)\n",
    "        break"
   ]
  },
  {
   "cell_type": "markdown",
   "id": "367b6c3a",
   "metadata": {},
   "source": [
    "criar um dicionario vazii\n",
    "fazer um loop while\n",
    "perguntar o nome\n",
    "armazenar o nome \n",
    "perguntar o lance\n",
    "armazenar o lance\n",
    "perguntar se equer continuar \n",
    "corelacionar o lance com o nome \n",
    "varrer o dicionario e achar o maior lance\n",
    "printar: O maior valor foi {nome} com {valor} reais"
   ]
  },
  {
   "cell_type": "code",
   "execution_count": 36,
   "id": "288c3a7e",
   "metadata": {},
   "outputs": [
    {
     "ename": "KeyError",
     "evalue": "99",
     "output_type": "error",
     "traceback": [
      "\u001b[1;31m---------------------------------------------------------------------------\u001b[0m",
      "\u001b[1;31mKeyError\u001b[0m                                  Traceback (most recent call last)",
      "\u001b[1;32m~\\AppData\\Local\\Temp\\ipykernel_8444\\2215357298.py\u001b[0m in \u001b[0;36m<module>\u001b[1;34m\u001b[0m\n\u001b[0;32m     10\u001b[0m     \u001b[0mnumero\u001b[0m\u001b[1;33m=\u001b[0m\u001b[0mnota_alunos\u001b[0m\u001b[1;33m[\u001b[0m\u001b[0mnota\u001b[0m\u001b[1;33m]\u001b[0m\u001b[1;33m\u001b[0m\u001b[1;33m\u001b[0m\u001b[0m\n\u001b[0;32m     11\u001b[0m     \u001b[0mnumeros\u001b[0m\u001b[1;33m.\u001b[0m\u001b[0mappend\u001b[0m\u001b[1;33m(\u001b[0m\u001b[0mnumero\u001b[0m\u001b[1;33m)\u001b[0m\u001b[1;33m\u001b[0m\u001b[1;33m\u001b[0m\u001b[0m\n\u001b[1;32m---> 12\u001b[1;33m \u001b[0mprint\u001b[0m\u001b[1;33m(\u001b[0m\u001b[1;34mf'A maior nota foi {max(numeros)} de {nota_alunos[max(numeros)]}'\u001b[0m\u001b[1;33m)\u001b[0m\u001b[1;33m\u001b[0m\u001b[1;33m\u001b[0m\u001b[0m\n\u001b[0m",
      "\u001b[1;31mKeyError\u001b[0m: 99"
     ]
    }
   ],
   "source": [
    "nota_alunos={\n",
    "    'harry': 81,\n",
    "    'ron': 78,\n",
    "    'hermione': 99,\n",
    "    'draco': 74,\n",
    "    'neville': 62,\n",
    "}\n",
    "numeros=[]\n",
    "for nota in nota_alunos:\n",
    "    numero=nota_alunos[nota]\n",
    "    numeros.append(numero)\n",
    "print(f'A maior nota foi {max(numeros)} de {nota_alunos[max(numeros)]}')"
   ]
  },
  {
   "cell_type": "code",
   "execution_count": null,
   "id": "39fba328",
   "metadata": {},
   "outputs": [],
   "source": [
    "while True:\n",
    "    pessoas['nome']=str(input('Nome: '))\n",
    "    pessoas['lance']=int(input('Qual seu lance'))\n",
    "    condicao=str(input(''))"
   ]
  }
 ],
 "metadata": {
  "kernelspec": {
   "display_name": "Python 3 (ipykernel)",
   "language": "python",
   "name": "python3"
  },
  "language_info": {
   "codemirror_mode": {
    "name": "ipython",
    "version": 3
   },
   "file_extension": ".py",
   "mimetype": "text/x-python",
   "name": "python",
   "nbconvert_exporter": "python",
   "pygments_lexer": "ipython3",
   "version": "3.9.13"
  }
 },
 "nbformat": 4,
 "nbformat_minor": 5
}
