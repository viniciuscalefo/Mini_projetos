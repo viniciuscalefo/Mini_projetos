{
 "cells": [
  {
   "cell_type": "code",
   "execution_count": 2,
   "id": "0dce30a3",
   "metadata": {},
   "outputs": [
    {
     "name": "stdout",
     "output_type": "stream",
     "text": [
      "Quer jogar 21 [S/N]s\n",
      "11\n"
     ]
    }
   ],
   "source": [
    "import random\n",
    "cartas=[11,2,3,4,5,6,7,8,9,10,10,10]\n",
    "jogar=str(input('Quer jogar 21 [S/N]')).upper()[0]\n",
    "usuario=random.choice(cartas)\n",
    "print(usuario)"
   ]
  },
  {
   "cell_type": "markdown",
   "id": "d8cf985e",
   "metadata": {},
   "source": [
    "# usuario e mesa\n"
   ]
  },
  {
   "cell_type": "code",
   "execution_count": 56,
   "id": "be6ae86c",
   "metadata": {},
   "outputs": [
    {
     "name": "stdout",
     "output_type": "stream",
     "text": [
      "A carta da mesa é 3 \n",
      "Suas cartas são [9, 6] \n",
      "Aperte S para uma nova carta ou N para parar s\n",
      "Suas cartas são [9, 6, 10] \n",
      "Aperte S para uma nova carta ou N para parar n\n",
      "PERDEU\n",
      "Sua mão final é [9, 6, 10]  e soma dela é 25\n",
      "A mão final da mesa é [3, 10] e soma dela é 13\n"
     ]
    }
   ],
   "source": [
    "import random\n",
    "cartas=[11,2,3,4,5,6,7,8,9,10,10,10]\n",
    "#mãos do usuario e mesa \n",
    "mao_usuario=[]\n",
    "mao_mesa=[]\n",
    "\n",
    "#primeiras duas cartas do usuario e da mesa \n",
    "for c in range (0,2):\n",
    "    #usario compra 2 cartas\n",
    "    carta=random.choice(cartas)\n",
    "    mao_usuario.append(carta)\n",
    "    \n",
    "    #mesa compra duas cartas\n",
    "    carta=random.choice(cartas)\n",
    "    mao_mesa.append(carta)\n",
    "print(f'A carta da mesa é {mao_mesa[0]} ')\n",
    "print(f'Suas cartas são {mao_usuario} ')\n",
    "soma_mesa=sum(mao_mesa)\n",
    "soma_usuario=sum(mao_usuario)\n",
    "\n",
    "# pergunatndo se quer mais uma carta ou não \n",
    "continuar=str(input('Aperte S para uma nova carta ou N para parar ')).upper()[0]\n",
    "\n",
    "#validando se a resposta esta entre sim ou não \n",
    "while continuar not in 'SNsn':\n",
    "    print('Resposta inválida' )\n",
    "    continuar=str(input('Aperte S para uma nova carta ou N para parar ')).upper()[0]\n",
    "    \n",
    "if continuar=='N':\n",
    "    if soma_usuario>soma_mesa and soma_usuario<21:\n",
    "        print('!!!  GANHOU  !!!')\n",
    "        \n",
    "    if soma_usuario>21 and soma_mesa<21:\n",
    "        print('PERDEU')\n",
    "        \n",
    "    if soma_mesa==soma_usuario:\n",
    "        print('EMPATE')\n",
    "       \n",
    "    if soma_mesa<21 and soma_mesa>soma_usuario:\n",
    "        \n",
    "        print('PERDEU')\n",
    "       \n",
    "    \n",
    "#Se o jogador falar sim e a mesa tiver <17 ela compra mais uma carta\n",
    "if continuar=='S' and soma_mesa<17:\n",
    "    soma_mesa=sum(mao_mesa)\n",
    "    soma_usuario=sum(mao_usuario)\n",
    "    \n",
    "while continuar=='S':\n",
    "    #dando mais uma carta ao usuario \n",
    "    carta=random.choice(cartas)\n",
    "    mao_usuario.append(carta)\n",
    "    print(f'Suas cartas são {mao_usuario} ')\n",
    "    soma_usuario=sum(mao_usuario)\n",
    "    \n",
    "    #perguntando se ele quer parar\n",
    "    continuar=str(input('Aperte S para uma nova carta ou N para parar ')).upper()[0]\n",
    "    if continuar=='N': # se aperatr n o programa sai do loop\n",
    "        break\n",
    "        \n",
    "# se a mão do usuario passa de 21 ele perde automaticammnte \n",
    "if soma_usuario>soma_mesa and soma_usuario<21:\n",
    "    print('!!!  GANHOU  !!!')\n",
    "    \n",
    "if soma_usuario>21 and soma_mesa<21:\n",
    "    print('PERDEU')\n",
    "    \n",
    "\n",
    "if soma_mesa==soma_usuario:\n",
    "    print('EMPATE')\n",
    "    \n",
    "if soma_mesa<21 and soma_mesa>soma_usuario:\n",
    "    print('PERDEU')\n",
    "    \n",
    "        \n",
    "print(f'Sua mão final é {mao_usuario}  e soma dela é {soma_usuario}')\n",
    "print(f'A mão final da mesa é {mao_mesa} e soma dela é {soma_mesa}')\n",
    "    \n"
   ]
  },
  {
   "cell_type": "markdown",
   "id": "33297b04",
   "metadata": {},
   "source": [
    "# mesas\n"
   ]
  },
  {
   "cell_type": "code",
   "execution_count": null,
   "id": "70c9797c",
   "metadata": {},
   "outputs": [],
   "source": [
    "# se a mão do usuario passa de 21 ele perde automaticammnte \n",
    "    if soma_usuario>soma_mesa and soma_usuario<21:\n",
    "        print('!!!  GANHOU  !!!')\n",
    "        break\n",
    "    if soma_usuario>21 and soma_mesa<21:\n",
    "        print('PERDEU')\n",
    "        break\n",
    "    if soma_mesa==soma_usuario:\n",
    "        print('EMPATE')\n",
    "        break\n",
    "    if soma_mesa<21 and soma_mesa>soma_usuario:\n",
    "        print('PERDEU')"
   ]
  },
  {
   "cell_type": "code",
   "execution_count": null,
   "id": "d8ae9b86",
   "metadata": {},
   "outputs": [],
   "source": []
  }
 ],
 "metadata": {
  "kernelspec": {
   "display_name": "Python 3 (ipykernel)",
   "language": "python",
   "name": "python3"
  },
  "language_info": {
   "codemirror_mode": {
    "name": "ipython",
    "version": 3
   },
   "file_extension": ".py",
   "mimetype": "text/x-python",
   "name": "python",
   "nbconvert_exporter": "python",
   "pygments_lexer": "ipython3",
   "version": "3.9.13"
  }
 },
 "nbformat": 4,
 "nbformat_minor": 5
}
